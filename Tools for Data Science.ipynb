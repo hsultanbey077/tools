{
 "cells": [
  {
   "cell_type": "markdown",
   "id": "abc27bf6-f540-4873-b99c-c8eca37dc657",
   "metadata": {},
   "source": [
    "# My Jupyter Notebook on IBM Watson Studio"
   ]
  },
  {
   "cell_type": "markdown",
   "id": "57a3fe53-81ea-4a23-8145-3d214bca13d0",
   "metadata": {},
   "source": [
    "#### Sultan Khajidursunogly "
   ]
  },
  {
   "cell_type": "markdown",
   "id": "b90f7833-a5c9-42a1-8acc-96d54ba65107",
   "metadata": {},
   "source": [
    "Data Science"
   ]
  },
  {
   "cell_type": "markdown",
   "id": "716e157f-d518-4666-bd5b-2e6f79b1cc22",
   "metadata": {},
   "source": [
    "*I am intested in machine learning and deep learning also like programming on Java*"
   ]
  },
  {
   "cell_type": "markdown",
   "id": "64cd11c9-747b-4cc5-96a9-c854715e22fe",
   "metadata": {},
   "source": [
    "## This code will return sum of 2 variables"
   ]
  },
  {
   "cell_type": "code",
   "execution_count": 1,
   "id": "a55dbb93-d33a-40c4-be8c-91a8552fcf64",
   "metadata": {},
   "outputs": [
    {
     "name": "stdin",
     "output_type": "stream",
     "text": [
      " 10\n",
      " 9\n"
     ]
    },
    {
     "name": "stdout",
     "output_type": "stream",
     "text": [
      "19\n"
     ]
    }
   ],
   "source": [
    "a = int(input())\n",
    "b= int(input())\n",
    "print(a+b)"
   ]
  },
  {
   "cell_type": "markdown",
   "id": "ec70d889-812d-4312-b5a2-6b04b0ef425c",
   "metadata": {},
   "source": [
    "Interested technologies:\n",
    "*** \n",
    "1. AI\n",
    "2. ML\n",
    "3. DL\n",
    "4. PYTHON\n",
    "5. JAVA\n",
    "***\n",
    "[Github](https://github.com/hsultanbey077)"
   ]
  },
  {
   "cell_type": "code",
   "execution_count": null,
   "id": "8da749df-41f2-4b64-a172-17077414379b",
   "metadata": {},
   "outputs": [],
   "source": []
  }
 ],
 "metadata": {
  "kernelspec": {
   "display_name": "Python 3",
   "language": "python",
   "name": "python3"
  },
  "language_info": {
   "codemirror_mode": {
    "name": "ipython",
    "version": 3
   },
   "file_extension": ".py",
   "mimetype": "text/x-python",
   "name": "python",
   "nbconvert_exporter": "python",
   "pygments_lexer": "ipython3",
   "version": "3.8.8"
  }
 },
 "nbformat": 4,
 "nbformat_minor": 5
}
